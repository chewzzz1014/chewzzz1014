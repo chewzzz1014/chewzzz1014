{
  "nbformat": 4,
  "nbformat_minor": 0,
  "metadata": {
    "colab": {
      "name": "Untitled0.ipynb",
      "provenance": [],
      "authorship_tag": "ABX9TyPgFla5n0EDIUbhVICgNn58",
      "include_colab_link": true
    },
    "kernelspec": {
      "name": "python3",
      "display_name": "Python 3"
    },
    "language_info": {
      "name": "python"
    }
  },
  "cells": [
    {
      "cell_type": "markdown",
      "metadata": {
        "id": "view-in-github",
        "colab_type": "text"
      },
      "source": [
        "<a href=\"https://colab.research.google.com/github/chewzzz1014/chewzzz1014/blob/main/FirstGoogleCollab.ipynb\" target=\"_parent\"><img src=\"https://colab.research.google.com/assets/colab-badge.svg\" alt=\"Open In Colab\"/></a>"
      ]
    },
    {
      "cell_type": "code",
      "execution_count": null,
      "metadata": {
        "id": "5TzsXyB8SflH"
      },
      "outputs": [],
      "source": [
        "x=4"
      ]
    },
    {
      "cell_type": "code",
      "source": [
        "y=5"
      ],
      "metadata": {
        "id": "SbLzUKpYSt77"
      },
      "execution_count": null,
      "outputs": []
    },
    {
      "cell_type": "code",
      "source": [
        "z=x+y"
      ],
      "metadata": {
        "id": "ZOEG2EBNSvAs"
      },
      "execution_count": null,
      "outputs": []
    },
    {
      "cell_type": "markdown",
      "source": [
        "# Print the sum\n"
      ],
      "metadata": {
        "id": "3FTp1TNaTbTH"
      }
    },
    {
      "cell_type": "code",
      "source": [
        "print(z)"
      ],
      "metadata": {
        "id": "kL2kVbq_Sx3G"
      },
      "execution_count": null,
      "outputs": []
    },
    {
      "cell_type": "code",
      "source": [
        "System.out.print(\"Hello World\");"
      ],
      "metadata": {
        "id": "6gYJwoMVT3Us"
      },
      "execution_count": null,
      "outputs": []
    },
    {
      "cell_type": "markdown",
      "source": [
        "#Print list\n"
      ],
      "metadata": {
        "id": "lo9hYmVOVKjd"
      }
    },
    {
      "cell_type": "code",
      "source": [
        "myList=[1,2,3,4,5,6,7]"
      ],
      "metadata": {
        "id": "MDSEf3wHU2Ib"
      },
      "execution_count": null,
      "outputs": []
    },
    {
      "cell_type": "code",
      "source": [
        "for item in myList:\n",
        "  print(str(item))"
      ],
      "metadata": {
        "id": "ba9YqB1uU7mD"
      },
      "execution_count": null,
      "outputs": []
    }
  ]
}